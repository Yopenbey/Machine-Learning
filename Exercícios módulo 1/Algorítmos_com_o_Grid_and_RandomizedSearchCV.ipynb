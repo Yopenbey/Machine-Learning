{
  "nbformat": 4,
  "nbformat_minor": 0,
  "metadata": {
    "colab": {
      "name": "Algorítmos com o Grid and RandomizedSearchCV.ipynb",
      "provenance": []
    },
    "kernelspec": {
      "name": "python3",
      "display_name": "Python 3"
    }
  },
  "cells": [
    {
      "cell_type": "code",
      "metadata": {
        "colab": {
          "base_uri": "https://localhost:8080/",
          "height": 204
        },
        "id": "7i1htWglF9OO",
        "outputId": "70040cab-1db1-403b-ea3f-78d92834e94e"
      },
      "source": [
        "import pandas as pd\n",
        "dados = pd.read_csv('Admission_Predict.csv')\n",
        "dados.head()"
      ],
      "execution_count": 1,
      "outputs": [
        {
          "output_type": "execute_result",
          "data": {
            "text/html": [
              "<div>\n",
              "<style scoped>\n",
              "    .dataframe tbody tr th:only-of-type {\n",
              "        vertical-align: middle;\n",
              "    }\n",
              "\n",
              "    .dataframe tbody tr th {\n",
              "        vertical-align: top;\n",
              "    }\n",
              "\n",
              "    .dataframe thead th {\n",
              "        text-align: right;\n",
              "    }\n",
              "</style>\n",
              "<table border=\"1\" class=\"dataframe\">\n",
              "  <thead>\n",
              "    <tr style=\"text-align: right;\">\n",
              "      <th></th>\n",
              "      <th>Serial No.</th>\n",
              "      <th>GRE Score</th>\n",
              "      <th>TOEFL Score</th>\n",
              "      <th>University Rating</th>\n",
              "      <th>SOP</th>\n",
              "      <th>LOR</th>\n",
              "      <th>CGPA</th>\n",
              "      <th>Research</th>\n",
              "      <th>Chance of Admit</th>\n",
              "    </tr>\n",
              "  </thead>\n",
              "  <tbody>\n",
              "    <tr>\n",
              "      <th>0</th>\n",
              "      <td>1</td>\n",
              "      <td>337</td>\n",
              "      <td>118</td>\n",
              "      <td>4</td>\n",
              "      <td>4.5</td>\n",
              "      <td>4.5</td>\n",
              "      <td>9.65</td>\n",
              "      <td>1</td>\n",
              "      <td>0.92</td>\n",
              "    </tr>\n",
              "    <tr>\n",
              "      <th>1</th>\n",
              "      <td>2</td>\n",
              "      <td>324</td>\n",
              "      <td>107</td>\n",
              "      <td>4</td>\n",
              "      <td>4.0</td>\n",
              "      <td>4.5</td>\n",
              "      <td>8.87</td>\n",
              "      <td>1</td>\n",
              "      <td>0.76</td>\n",
              "    </tr>\n",
              "    <tr>\n",
              "      <th>2</th>\n",
              "      <td>3</td>\n",
              "      <td>316</td>\n",
              "      <td>104</td>\n",
              "      <td>3</td>\n",
              "      <td>3.0</td>\n",
              "      <td>3.5</td>\n",
              "      <td>8.00</td>\n",
              "      <td>1</td>\n",
              "      <td>0.72</td>\n",
              "    </tr>\n",
              "    <tr>\n",
              "      <th>3</th>\n",
              "      <td>4</td>\n",
              "      <td>322</td>\n",
              "      <td>110</td>\n",
              "      <td>3</td>\n",
              "      <td>3.5</td>\n",
              "      <td>2.5</td>\n",
              "      <td>8.67</td>\n",
              "      <td>1</td>\n",
              "      <td>0.80</td>\n",
              "    </tr>\n",
              "    <tr>\n",
              "      <th>4</th>\n",
              "      <td>5</td>\n",
              "      <td>314</td>\n",
              "      <td>103</td>\n",
              "      <td>2</td>\n",
              "      <td>2.0</td>\n",
              "      <td>3.0</td>\n",
              "      <td>8.21</td>\n",
              "      <td>0</td>\n",
              "      <td>0.65</td>\n",
              "    </tr>\n",
              "  </tbody>\n",
              "</table>\n",
              "</div>"
            ],
            "text/plain": [
              "   Serial No.  GRE Score  TOEFL Score  ...  CGPA  Research  Chance of Admit \n",
              "0           1        337          118  ...  9.65         1              0.92\n",
              "1           2        324          107  ...  8.87         1              0.76\n",
              "2           3        316          104  ...  8.00         1              0.72\n",
              "3           4        322          110  ...  8.67         1              0.80\n",
              "4           5        314          103  ...  8.21         0              0.65\n",
              "\n",
              "[5 rows x 9 columns]"
            ]
          },
          "metadata": {
            "tags": []
          },
          "execution_count": 1
        }
      ]
    },
    {
      "cell_type": "code",
      "metadata": {
        "id": "BBH0b7CYHTlP"
      },
      "source": [
        "#Definindo as variáveis preditoras e target\n",
        "y = dados['Chance of Admit ']\n",
        "x = dados.drop('Chance of Admit ', axis=1)"
      ],
      "execution_count": 2,
      "outputs": []
    },
    {
      "cell_type": "code",
      "metadata": {
        "id": "qRHSQBF3INKz"
      },
      "source": [
        "#Definindo os valores dos parâmetros\n",
        "from sklearn.model_selection import GridSearchCV\n",
        "from sklearn.model_selection import RandomizedSearchCV\n",
        "valores ={'alpha':[0.1,0.2,0.3,0.7,1,3,5,7,9,15,20,25,30,100],'l1_ratio':[0.2,0.5,0.8,1,2,5,7,9,15,20,25,30,100]}\n",
        "valoress ={'alpha':[0.1,0.2,0.7,1,3,5,7,9,15,20,25,30,100]}"
      ],
      "execution_count": 3,
      "outputs": []
    },
    {
      "cell_type": "code",
      "metadata": {
        "id": "zN04DVK9LP_p"
      },
      "source": [
        "#Função para detectar os melhores parâmetros e algorítmo\n",
        "def procura():\n",
        "    from sklearn.linear_model import Ridge\n",
        "    from sklearn.linear_model import Lasso\n",
        "    from sklearn.linear_model import ElasticNet\n",
        "    from sklearn.linear_model import LinearRegression\n",
        "    linear = LinearRegression()\n",
        "    ridge = Ridge()\n",
        "    lasso = Lasso()\n",
        "    elastic = ElasticNet()\n",
        "    procuraD = RandomizedSearchCV(estimator=elastic, param_distributions=valores, n_iter=170, cv=5)\n",
        "    procuraR = GridSearchCV(estimator=ridge, param_grid=valoress, cv=5)\n",
        "    procuraL = GridSearchCV(estimator=lasso, param_grid=valoress, cv=5)\n",
        "    procuraD.fit(x,y)\n",
        "    procuraR.fit(x,y)\n",
        "    procuraL.fit(x,y)\n",
        "    melhor_valor = {'Ridge':procuraR.best_score_, 'Linear':procuraL.best_score_, 'ElasticNet':procuraD.best_score_}\n",
        "    max_pontuation = max(melhor_valor, key=melhor_valor.get)\n",
        "    print('ElasticNet - melhor alpha:',procuraD.best_estimator_.alpha,'\\n             melhor L1...:',procuraD.best_estimator_.l1_ratio,'\\n             Melhor valor:',procuraD.best_score_)\n",
        "    print('--------------------------------------------------')\n",
        "    print('Ridge Regression - melhor alpha:',procuraR.best_estimator_.alpha,'\\n                   Melhor valor:',procuraR.best_score_)\n",
        "    print('lasso Regression - melhor alpha:',procuraL.best_estimator_.alpha,'\\n                   Melhor valor:',procuraL.best_score_)\n",
        "    print('--------------------------------------------------')\n",
        "    print('Melhor algorítmo:',max_pontuation, '- Com o valor:',melhor_valor[max_pontuation])\n",
        "    "
      ],
      "execution_count": 4,
      "outputs": []
    },
    {
      "cell_type": "code",
      "metadata": {
        "id": "8jEeZBpQLxMj",
        "colab": {
          "base_uri": "https://localhost:8080/"
        },
        "outputId": "8f50f5bd-8c01-438b-bc4f-dc6d440742fb"
      },
      "source": [
        "procura()"
      ],
      "execution_count": 5,
      "outputs": [
        {
          "output_type": "stream",
          "text": [
            "ElasticNet - melhor alpha: 0.1 \n",
            "             melhor L1...: 0.2 \n",
            "             Melhor valor: 0.6625113020773268\n",
            "--------------------------------------------------\n",
            "Ridge Regression - melhor alpha: 0.1 \n",
            "                   Melhor valor: 0.7803320139174725\n",
            "lasso Regression - melhor alpha: 0.1 \n",
            "                   Melhor valor: 0.6151914152230118\n",
            "--------------------------------------------------\n",
            "Melhor algorítmo: Ridge - Com o valor: 0.7803320139174725\n"
          ],
          "name": "stdout"
        }
      ]
    }
  ]
}