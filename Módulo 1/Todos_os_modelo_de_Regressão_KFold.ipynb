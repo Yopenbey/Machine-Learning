{
  "nbformat": 4,
  "nbformat_minor": 0,
  "metadata": {
    "colab": {
      "name": "Todos os modelo de Regressão KFold.ipynb",
      "provenance": [],
      "collapsed_sections": []
    },
    "kernelspec": {
      "display_name": "Python 3",
      "name": "python3"
    }
  },
  "cells": [
    {
      "cell_type": "code",
      "metadata": {
        "colab": {
          "base_uri": "https://localhost:8080/",
          "height": 204
        },
        "id": "0oZQFWSkOkBs",
        "outputId": "3cfadf58-45b9-4e83-fb42-b5c9fd4edc36"
      },
      "source": [
        "import pandas as pd\n",
        "dados = pd.read_csv('Admission_Predict.csv')\n",
        "dados.head()"
      ],
      "execution_count": 31,
      "outputs": [
        {
          "output_type": "execute_result",
          "data": {
            "text/html": [
              "<div>\n",
              "<style scoped>\n",
              "    .dataframe tbody tr th:only-of-type {\n",
              "        vertical-align: middle;\n",
              "    }\n",
              "\n",
              "    .dataframe tbody tr th {\n",
              "        vertical-align: top;\n",
              "    }\n",
              "\n",
              "    .dataframe thead th {\n",
              "        text-align: right;\n",
              "    }\n",
              "</style>\n",
              "<table border=\"1\" class=\"dataframe\">\n",
              "  <thead>\n",
              "    <tr style=\"text-align: right;\">\n",
              "      <th></th>\n",
              "      <th>Serial No.</th>\n",
              "      <th>GRE Score</th>\n",
              "      <th>TOEFL Score</th>\n",
              "      <th>University Rating</th>\n",
              "      <th>SOP</th>\n",
              "      <th>LOR</th>\n",
              "      <th>CGPA</th>\n",
              "      <th>Research</th>\n",
              "      <th>Chance of Admit</th>\n",
              "    </tr>\n",
              "  </thead>\n",
              "  <tbody>\n",
              "    <tr>\n",
              "      <th>0</th>\n",
              "      <td>1</td>\n",
              "      <td>337</td>\n",
              "      <td>118</td>\n",
              "      <td>4</td>\n",
              "      <td>4.5</td>\n",
              "      <td>4.5</td>\n",
              "      <td>9.65</td>\n",
              "      <td>1</td>\n",
              "      <td>0.92</td>\n",
              "    </tr>\n",
              "    <tr>\n",
              "      <th>1</th>\n",
              "      <td>2</td>\n",
              "      <td>324</td>\n",
              "      <td>107</td>\n",
              "      <td>4</td>\n",
              "      <td>4.0</td>\n",
              "      <td>4.5</td>\n",
              "      <td>8.87</td>\n",
              "      <td>1</td>\n",
              "      <td>0.76</td>\n",
              "    </tr>\n",
              "    <tr>\n",
              "      <th>2</th>\n",
              "      <td>3</td>\n",
              "      <td>316</td>\n",
              "      <td>104</td>\n",
              "      <td>3</td>\n",
              "      <td>3.0</td>\n",
              "      <td>3.5</td>\n",
              "      <td>8.00</td>\n",
              "      <td>1</td>\n",
              "      <td>0.72</td>\n",
              "    </tr>\n",
              "    <tr>\n",
              "      <th>3</th>\n",
              "      <td>4</td>\n",
              "      <td>322</td>\n",
              "      <td>110</td>\n",
              "      <td>3</td>\n",
              "      <td>3.5</td>\n",
              "      <td>2.5</td>\n",
              "      <td>8.67</td>\n",
              "      <td>1</td>\n",
              "      <td>0.80</td>\n",
              "    </tr>\n",
              "    <tr>\n",
              "      <th>4</th>\n",
              "      <td>5</td>\n",
              "      <td>314</td>\n",
              "      <td>103</td>\n",
              "      <td>2</td>\n",
              "      <td>2.0</td>\n",
              "      <td>3.0</td>\n",
              "      <td>8.21</td>\n",
              "      <td>0</td>\n",
              "      <td>0.65</td>\n",
              "    </tr>\n",
              "  </tbody>\n",
              "</table>\n",
              "</div>"
            ],
            "text/plain": [
              "   Serial No.  GRE Score  TOEFL Score  ...  CGPA  Research  Chance of Admit \n",
              "0           1        337          118  ...  9.65         1              0.92\n",
              "1           2        324          107  ...  8.87         1              0.76\n",
              "2           3        316          104  ...  8.00         1              0.72\n",
              "3           4        322          110  ...  8.67         1              0.80\n",
              "4           5        314          103  ...  8.21         0              0.65\n",
              "\n",
              "[5 rows x 9 columns]"
            ]
          },
          "metadata": {
            "tags": []
          },
          "execution_count": 31
        }
      ]
    },
    {
      "cell_type": "code",
      "metadata": {
        "id": "Dkw7sCyMpmPm"
      },
      "source": [
        "y = dados['Chance of Admit ']\n",
        "x = dados.drop('Chance of Admit ', axis=1)"
      ],
      "execution_count": 32,
      "outputs": []
    },
    {
      "cell_type": "code",
      "metadata": {
        "id": "zTN5zWPWqLcK"
      },
      "source": [
        "from sklearn.model_selection import cross_val_score\n",
        "from sklearn.model_selection import KFold"
      ],
      "execution_count": 33,
      "outputs": []
    },
    {
      "cell_type": "code",
      "metadata": {
        "id": "8HYHYWO8qcZR"
      },
      "source": [
        "def todos(a, b):\n",
        "  from sklearn.linear_model import LinearRegression\n",
        "  from sklearn.linear_model import Lasso\n",
        "  from sklearn.linear_model import Ridge\n",
        "  from sklearn.linear_model import ElasticNet\n",
        "  x = a\n",
        "  y = b\n",
        "  linear = LinearRegression()\n",
        "  ridge = Ridge()\n",
        "  lasso = Lasso()\n",
        "  elastic = ElasticNet()\n",
        "  kfold = KFold(shuffle=True)\n",
        "  linearR = cross_val_score(linear, x, y, cv = kfold)\n",
        "  lassoR = cross_val_score(lasso, x, y, cv = kfold)\n",
        "  ridgeR = cross_val_score(ridge, x, y, cv = kfold)\n",
        "  elasticR = cross_val_score(elastic, x, y, cv = kfold)\n",
        "  regressoes = {'Linear:':linearR.mean(),'Ridge:':ridgeR.mean(),'Lasso:':lassoR.mean(),'Elastic:':elasticR.mean()}\n",
        "  max_pontuation = max(regressoes, key=regressoes.get)\n",
        "  print('Linear Regression:',linearR.mean(),'\\nRidge:',ridgeR.mean(),'\\nLasso:',lassoR.mean(),'\\nElasticNet:',elasticR.mean())\n",
        "  print('Pontuação máxima:',max_pontuation, '- com o valor:', regressoes[max_pontuation])\n",
        "\n"
      ],
      "execution_count": 37,
      "outputs": []
    },
    {
      "cell_type": "code",
      "metadata": {
        "colab": {
          "base_uri": "https://localhost:8080/"
        },
        "id": "CPgi0M_myCb7",
        "outputId": "eee38a8e-8939-4af1-b60f-f66e19a10be6"
      },
      "source": [
        "todos(x,y)"
      ],
      "execution_count": 38,
      "outputs": [
        {
          "output_type": "stream",
          "text": [
            "Linear Regression: 0.8042312023573077 \n",
            "Ridge: 0.7993073170447194 \n",
            "Lasso: 0.2646370227447662 \n",
            "ElasticNet: 0.5353852218260035\n",
            "Pontuação máxima: Linear: - com o valor: 0.8042312023573077\n"
          ],
          "name": "stdout"
        }
      ]
    }
  ]
}